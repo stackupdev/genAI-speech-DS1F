{
  "cells": [
    {
      "cell_type": "code",
      "execution_count": 1,
      "metadata": {},
      "outputs": [
        {
          "data": {
            "text/plain": [
              "1"
            ]
          },
          "execution_count": 1,
          "metadata": {},
          "output_type": "execute_result"
        }
      ],
      "source": [
        "import win32com.client\n",
        "\n",
        "speaker = win32com.client.Dispatch(\"SAPI.SpVoice\")\n",
        "speaker.Speak(\"Hello. If you hear this, SAPI is working.\")"
      ]
    },
    {
      "cell_type": "code",
      "execution_count": 4,
      "metadata": {},
      "outputs": [
        {
          "name": "stdout",
          "output_type": "stream",
          "text": [
            "🎤 Listening... Say something after the beep.\n",
            "🗣️ Speaking: How can I help you?\n",
            "You said: nltk whatever NLP are title then every time we saw. Please wait while I generate a response.\n",
            "🗣️ Speaking: You said: nltk whatever NLP are title then every time we saw. Please wait while I generate a response.\n",
            "💬 Gemini says: I'm sorry, I don't understand your request.  Could you please rephrase your question or clarify what you're asking for?  The sentence \"nltk whatever NLP are title then every time we saw\" is grammatically incorrect and doesn't convey a clear meaning.  To help me understand, please tell me:\n",
            "\n",
            "* **What are you trying to do?**  Are you trying to write a program?  Analyze text?  Something else?\n",
            "* **What is the context?** What is the larger task you are working on?\n",
            "* **What do you mean by \"nltk whatever NLP are title\"?**  What is the intended meaning of this phrase?\n",
            "* **What does \"every time we saw\" refer to?** What are you looking for in the text?\n",
            "\n",
            "With more information, I can provide a helpful response.\n",
            "🗣️ Speaking: I'm sorry, I don't understand your request.  Could you please rephrase your question or clarify what you're asking for?  The sentence \"nltk whatever NLP are title then every time we saw\" is grammatically incorrect and doesn't convey a clear meaning.  To help me understand, please tell me:\n",
            "\n",
            "* **What are you trying to do?**  Are you trying to write a program?  Analyze text?  Something else?\n",
            "* **What is the context?** What is the larger task you are working on?\n",
            "* **What do you mean by \"nltk whatever NLP are title\"?**  What is the intended meaning of this phrase?\n",
            "* **What does \"every time we saw\" refer to?** What are you looking for in the text?\n",
            "\n",
            "With more information, I can provide a helpful response.\n"
          ]
        }
      ],
      "source": [
        "import os\n",
        "import speech_recognition as sr\n",
        "import win32com.client\n",
        "import google.generativeai as genai\n",
        "from dotenv import load_dotenv\n",
        "\n",
        "# Load .env file if available\n",
        "load_dotenv()\n",
        "\n",
        "# Initialize Windows TTS engine\n",
        "speaker = win32com.client.Dispatch(\"SAPI.SpVoice\")\n",
        "\n",
        "def speak(text):\n",
        "    print(\"🗣️ Speaking:\", text)\n",
        "    speaker.Speak(text)\n",
        "\n",
        "# Configure Gemini with API key\n",
        "api_key = os.getenv(\"GEMINI_API_KEY\")\n",
        "if not api_key:\n",
        "    raise ValueError(\"GEMINI_API_KEY not found in environment variables or .env file.\")\n",
        "genai.configure(api_key=api_key)\n",
        "\n",
        "# Load the Gemini model\n",
        "model = genai.GenerativeModel(\"gemini-1.5-flash\")\n",
        "\n",
        "# Initialize recognizer\n",
        "recognizer = sr.Recognizer()\n",
        "\n",
        "try:\n",
        "    with sr.Microphone() as source:\n",
        "        recognizer.adjust_for_ambient_noise(source, duration=2)\n",
        "        print(\"🎤 Listening... Say something after the beep.\")\n",
        "        speak(\"How can I help you?\")\n",
        "\n",
        "        audio = recognizer.listen(source, timeout=5, phrase_time_limit=10)\n",
        "\n",
        "    # Convert speech to text\n",
        "    query = recognizer.recognize_google(audio)\n",
        "    user_msg = f\"You said: {query}. Please wait while I generate a response.\"\n",
        "    print(user_msg)\n",
        "    speak(user_msg)\n",
        "\n",
        "    # Generate response from Gemini\n",
        "    response = model.generate_content(query)\n",
        "    response_text = str(response.text).strip()\n",
        "    print(\"💬 Gemini says:\", response_text)\n",
        "    speak(response_text)\n",
        "\n",
        "except sr.UnknownValueError:\n",
        "    print(\"❌ Could not understand audio. Please try again.\")\n",
        "    speak(\"Sorry, I didn't catch that. Please try again.\")\n",
        "except sr.RequestError as e:\n",
        "    print(f\"❌ Could not request results from Google Speech Recognition; {e}\")\n",
        "    speak(\"Speech recognition service failed.\")\n",
        "except Exception as e:\n",
        "    print(\"❌ Error:\", e)\n",
        "    speak(\"An error occurred. Please check the terminal.\")\n"
      ]
    }
  ],
  "metadata": {
    "colab": {
      "provenance": []
    },
    "kernelspec": {
      "display_name": "voice-ai-env",
      "language": "python",
      "name": "python3"
    },
    "language_info": {
      "codemirror_mode": {
        "name": "ipython",
        "version": 3
      },
      "file_extension": ".py",
      "mimetype": "text/x-python",
      "name": "python",
      "nbconvert_exporter": "python",
      "pygments_lexer": "ipython3",
      "version": "3.12.11"
    }
  },
  "nbformat": 4,
  "nbformat_minor": 0
}
