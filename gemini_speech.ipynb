{
  "cells": [
    {
      "cell_type": "code",
      "execution_count": null,
      "metadata": {},
      "outputs": [
        {
          "name": "stdout",
          "output_type": "stream",
          "text": [
            "🎤 Listening... Say something after the beep.\n"
          ]
        }
      ],
      "source": [
        "import os\n",
        "import speech_recognition as sr\n",
        "import pyttsx3\n",
        "import google.generativeai as genai\n",
        "from dotenv import load_dotenv\n",
        "\n",
        "# Load .env file if available\n",
        "load_dotenv()\n",
        "\n",
        "# Initialize Text-to-Speech engine\n",
        "tts = pyttsx3.init()\n",
        "\n",
        "# Configure Gemini with API key\n",
        "api_key = os.getenv(\"GEMINI_API_KEY\")\n",
        "if not api_key:\n",
        "    raise ValueError(\"GEMINI_API_KEY not found in environment variables or .env file.\")\n",
        "genai.configure(api_key=api_key)\n",
        "\n",
        "# Load the Gemini model\n",
        "model = genai.GenerativeModel(\"gemini-1.5-flash\")\n",
        "\n",
        "# Initialize recognizer\n",
        "recognizer = sr.Recognizer()\n",
        "\n",
        "try:\n",
        "    with sr.Microphone() as source:\n",
        "        recognizer.adjust_for_ambient_noise(source, duration=2)\n",
        "        print(\"🎤 Listening... Say something after the beep.\")\n",
        "        tts.say(\"How can I help you?\")\n",
        "        tts.runAndWait()\n",
        "\n",
        "        audio = recognizer.listen(source, timeout=5, phrase_time_limit=10)\n",
        "\n",
        "    # Convert speech to text\n",
        "    query = recognizer.recognize_google(audio)\n",
        "    user_msg = f\"You said: {query}. Please wait while I generate a response.\"\n",
        "    print(user_msg)\n",
        "    tts.say(user_msg)\n",
        "    tts.runAndWait()\n",
        "\n",
        "    # Generate response from Gemini\n",
        "    response = model.generate_content(query)\n",
        "    print(\"💬 Gemini says:\", response.text)\n",
        "    tts.say(response.text)\n",
        "    tts.runAndWait()\n",
        "\n",
        "except sr.UnknownValueError:\n",
        "    print(\"❌ Could not understand audio. Please try again.\")\n",
        "    tts.say(\"Sorry, I didn't catch that. Please try again.\")\n",
        "    tts.runAndWait()\n",
        "except sr.RequestError as e:\n",
        "    print(f\"❌ Could not request results from Google Speech Recognition; {e}\")\n",
        "except Exception as e:\n",
        "    print(\"❌ Error:\", e)\n"
      ]
    }
  ],
  "metadata": {
    "colab": {
      "provenance": []
    },
    "kernelspec": {
      "display_name": "voice-ai-env",
      "language": "python",
      "name": "python3"
    },
    "language_info": {
      "codemirror_mode": {
        "name": "ipython",
        "version": 3
      },
      "file_extension": ".py",
      "mimetype": "text/x-python",
      "name": "python",
      "nbconvert_exporter": "python",
      "pygments_lexer": "ipython3",
      "version": "3.10.18"
    }
  },
  "nbformat": 4,
  "nbformat_minor": 0
}
