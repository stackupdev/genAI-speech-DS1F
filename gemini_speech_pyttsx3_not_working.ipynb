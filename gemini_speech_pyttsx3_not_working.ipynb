{
  "cells": [
    {
      "cell_type": "code",
      "execution_count": null,
      "metadata": {},
      "outputs": [
        {
          "name": "stdout",
          "output_type": "stream",
          "text": [
            "🎤 Listening... Say something after the beep.\n",
            "❌ Could not understand audio. Please try again.\n"
          ]
        }
      ],
      "source": [
        "import os\n",
        "import speech_recognition as sr\n",
        "import pyttsx3\n",
        "import google.generativeai as genai\n",
        "from dotenv import load_dotenv\n",
        "\n",
        "# Load .env file if available\n",
        "load_dotenv()\n",
        "\n",
        "# Initialize Text-to-Speech engine\n",
        "tts = pyttsx3.init()\n",
        "\n",
        "# Configure Gemini with API key\n",
        "api_key = os.getenv(\"GEMINI_API_KEY\")\n",
        "if not api_key:\n",
        "    raise ValueError(\"GEMINI_API_KEY not found in environment variables or .env file.\")\n",
        "genai.configure(api_key=api_key)\n",
        "\n",
        "# Load the Gemini model\n",
        "model = genai.GenerativeModel(\"gemini-1.5-flash\")\n",
        "\n",
        "# Initialize recognizer\n",
        "recognizer = sr.Recognizer()\n",
        "\n",
        "try:\n",
        "    with sr.Microphone() as source:\n",
        "        recognizer.adjust_for_ambient_noise(source, duration=2)\n",
        "        print(\"🎤 Listening... Say something after the beep.\")\n",
        "        tts.say(\"How can I help you?\")\n",
        "        tts.runAndWait()\n",
        "\n",
        "        audio = recognizer.listen(source, timeout=5, phrase_time_limit=10)\n",
        "\n",
        "    # Convert speech to text\n",
        "    query = recognizer.recognize_google(audio)\n",
        "    user_msg = f\"You said: {query}. Please wait while I generate a response.\"\n",
        "    print(user_msg)\n",
        "    tts.say(user_msg)\n",
        "    tts.runAndWait()\n",
        "\n",
        "    # Generate response from Gemini\n",
        "    response = model.generate_content(query)\n",
        "    print(\"💬 Gemini says:\", response.text)\n",
        "    tts.say(response.text)\n",
        "    tts.runAndWait()\n",
        "\n",
        "except sr.UnknownValueError:\n",
        "    print(\"❌ Could not understand audio. Please try again.\")\n",
        "    tts.say(\"Sorry, I didn't catch that. Please try again.\")\n",
        "    tts.runAndWait()\n",
        "except sr.RequestError as e:\n",
        "    print(f\"❌ Could not request results from Google Speech Recognition; {e}\")\n",
        "except Exception as e:\n",
        "    print(\"❌ Error:\", e)\n"
      ]
    },
    {
      "cell_type": "code",
      "execution_count": 39,
      "metadata": {},
      "outputs": [
        {
          "name": "stdout",
          "output_type": "stream",
          "text": [
            "0: Microsoft David Desktop - English (United States) (['en-US']) - HKEY_LOCAL_MACHINE\\SOFTWARE\\Microsoft\\Speech\\Voices\\Tokens\\TTS_MS_EN-US_DAVID_11.0\n",
            "1: Microsoft Zira Desktop - English (United States) (['en-US']) - HKEY_LOCAL_MACHINE\\SOFTWARE\\Microsoft\\Speech\\Voices\\Tokens\\TTS_MS_EN-US_ZIRA_11.0\n"
          ]
        }
      ],
      "source": [
        "import pyttsx3\n",
        "\n",
        "tts = pyttsx3.init()\n",
        "voices = tts.getProperty('voices')\n",
        "\n",
        "for i, voice in enumerate(voices):\n",
        "    print(f\"{i}: {voice.name} ({voice.languages}) - {voice.id}\")\n"
      ]
    },
    {
      "cell_type": "code",
      "execution_count": 44,
      "metadata": {},
      "outputs": [],
      "source": [
        "import pyttsx3\n",
        "\n",
        "tts = pyttsx3.init()\n",
        "voices = tts.getProperty('voices')\n",
        "\n",
        "# Set to Zira (female voice)\n",
        "tts.setProperty('voice', voices[0].id)\n",
        "\n",
        "# Optional: adjust speech rate or volume\n",
        "tts.setProperty('rate', 160)   # default ~200 wpm\n",
        "tts.setProperty('volume', 1.0)  # 0.0 to 1.0\n",
        "\n",
        "tts.say(\"Hello! I'm Zira. Text to speech is working.\")\n",
        "tts.runAndWait()\n"
      ]
    },
    {
      "cell_type": "code",
      "execution_count": 41,
      "metadata": {},
      "outputs": [
        {
          "data": {
            "text/plain": [
              "1"
            ]
          },
          "execution_count": 41,
          "metadata": {},
          "output_type": "execute_result"
        }
      ],
      "source": [
        "import win32com.client\n",
        "\n",
        "speaker = win32com.client.Dispatch(\"SAPI.SpVoice\")\n",
        "speaker.Speak(\"Hello. If you hear this, SAPI is working.\")\n"
      ]
    },
    {
      "cell_type": "code",
      "execution_count": 42,
      "metadata": {},
      "outputs": [
        {
          "name": "stdout",
          "output_type": "stream",
          "text": [
            "🎤 Listening... Say something after the beep.\n",
            "🗣️ Speaking: How can I help you?\n",
            "You said: no I want to understand. Please wait while I generate a response.\n",
            "🗣️ Speaking: You said: no I want to understand. Please wait while I generate a response.\n"
          ]
        },
        {
          "ename": "KeyboardInterrupt",
          "evalue": "",
          "output_type": "error",
          "traceback": [
            "\u001b[1;31m---------------------------------------------------------------------------\u001b[0m",
            "\u001b[1;31mKeyboardInterrupt\u001b[0m                         Traceback (most recent call last)",
            "Cell \u001b[1;32mIn[42], line 41\u001b[0m\n\u001b[0;32m     39\u001b[0m user_msg \u001b[38;5;241m=\u001b[39m \u001b[38;5;124mf\u001b[39m\u001b[38;5;124m\"\u001b[39m\u001b[38;5;124mYou said: \u001b[39m\u001b[38;5;132;01m{\u001b[39;00mquery\u001b[38;5;132;01m}\u001b[39;00m\u001b[38;5;124m. Please wait while I generate a response.\u001b[39m\u001b[38;5;124m\"\u001b[39m\n\u001b[0;32m     40\u001b[0m \u001b[38;5;28mprint\u001b[39m(user_msg)\n\u001b[1;32m---> 41\u001b[0m \u001b[43mspeak\u001b[49m\u001b[43m(\u001b[49m\u001b[43muser_msg\u001b[49m\u001b[43m)\u001b[49m\n\u001b[0;32m     43\u001b[0m \u001b[38;5;66;03m# Generate response from Gemini\u001b[39;00m\n\u001b[0;32m     44\u001b[0m response \u001b[38;5;241m=\u001b[39m model\u001b[38;5;241m.\u001b[39mgenerate_content(query)\n",
            "Cell \u001b[1;32mIn[42], line 15\u001b[0m, in \u001b[0;36mspeak\u001b[1;34m(text)\u001b[0m\n\u001b[0;32m     13\u001b[0m \u001b[38;5;28;01mdef\u001b[39;00m\u001b[38;5;250m \u001b[39m\u001b[38;5;21mspeak\u001b[39m(text):\n\u001b[0;32m     14\u001b[0m     \u001b[38;5;28mprint\u001b[39m(\u001b[38;5;124m\"\u001b[39m\u001b[38;5;124m🗣️ Speaking:\u001b[39m\u001b[38;5;124m\"\u001b[39m, text)\n\u001b[1;32m---> 15\u001b[0m     \u001b[43mspeaker\u001b[49m\u001b[38;5;241;43m.\u001b[39;49m\u001b[43mSpeak\u001b[49m\u001b[43m(\u001b[49m\u001b[43mtext\u001b[49m\u001b[43m)\u001b[49m\n",
            "File \u001b[1;32m<COMObject SAPI.SpVoice>:2\u001b[0m, in \u001b[0;36mSpeak\u001b[1;34m(self, Text, Flags)\u001b[0m\n",
            "\u001b[1;31mKeyboardInterrupt\u001b[0m: "
          ]
        }
      ],
      "source": [
        "import os\n",
        "import speech_recognition as sr\n",
        "import win32com.client\n",
        "import google.generativeai as genai\n",
        "from dotenv import load_dotenv\n",
        "\n",
        "# Load .env file if available\n",
        "load_dotenv()\n",
        "\n",
        "# Initialize Windows TTS engine\n",
        "speaker = win32com.client.Dispatch(\"SAPI.SpVoice\")\n",
        "\n",
        "def speak(text):\n",
        "    print(\"🗣️ Speaking:\", text)\n",
        "    speaker.Speak(text)\n",
        "\n",
        "# Configure Gemini with API key\n",
        "api_key = os.getenv(\"GEMINI_API_KEY\")\n",
        "if not api_key:\n",
        "    raise ValueError(\"GEMINI_API_KEY not found in environment variables or .env file.\")\n",
        "genai.configure(api_key=api_key)\n",
        "\n",
        "# Load the Gemini model\n",
        "model = genai.GenerativeModel(\"gemini-1.5-flash\")\n",
        "\n",
        "# Initialize recognizer\n",
        "recognizer = sr.Recognizer()\n",
        "\n",
        "try:\n",
        "    with sr.Microphone() as source:\n",
        "        recognizer.adjust_for_ambient_noise(source, duration=2)\n",
        "        print(\"🎤 Listening... Say something after the beep.\")\n",
        "        speak(\"How can I help you?\")\n",
        "\n",
        "        audio = recognizer.listen(source, timeout=5, phrase_time_limit=10)\n",
        "\n",
        "    # Convert speech to text\n",
        "    query = recognizer.recognize_google(audio)\n",
        "    user_msg = f\"You said: {query}. Please wait while I generate a response.\"\n",
        "    print(user_msg)\n",
        "    speak(user_msg)\n",
        "\n",
        "    # Generate response from Gemini\n",
        "    response = model.generate_content(query)\n",
        "    response_text = str(response.text).strip()\n",
        "    print(\"💬 Gemini says:\", response_text)\n",
        "    speak(response_text)\n",
        "\n",
        "except sr.UnknownValueError:\n",
        "    print(\"❌ Could not understand audio. Please try again.\")\n",
        "    speak(\"Sorry, I didn't catch that. Please try again.\")\n",
        "except sr.RequestError as e:\n",
        "    print(f\"❌ Could not request results from Google Speech Recognition; {e}\")\n",
        "    speak(\"Speech recognition service failed.\")\n",
        "except Exception as e:\n",
        "    print(\"❌ Error:\", e)\n",
        "    speak(\"An error occurred. Please check the terminal.\")\n"
      ]
    }
  ],
  "metadata": {
    "colab": {
      "provenance": []
    },
    "kernelspec": {
      "display_name": "voice-ai-env",
      "language": "python",
      "name": "python3"
    },
    "language_info": {
      "codemirror_mode": {
        "name": "ipython",
        "version": 3
      },
      "file_extension": ".py",
      "mimetype": "text/x-python",
      "name": "python",
      "nbconvert_exporter": "python",
      "pygments_lexer": "ipython3",
      "version": "3.10.18"
    }
  },
  "nbformat": 4,
  "nbformat_minor": 0
}
